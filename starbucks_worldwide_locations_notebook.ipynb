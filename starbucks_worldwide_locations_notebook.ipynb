{
 "cells": [
  {
   "attachments": {},
   "cell_type": "markdown",
   "metadata": {},
   "source": [
    "# Starbucks Worldwide Location Project"
   ]
  },
  {
   "attachments": {},
   "cell_type": "markdown",
   "metadata": {},
   "source": [
    "# CRISP-DM"
   ]
  },
  {
   "attachments": {},
   "cell_type": "markdown",
   "metadata": {},
   "source": [
    "# A. Business Understanding"
   ]
  },
  {
   "attachments": {},
   "cell_type": "markdown",
   "metadata": {},
   "source": [
    "**Business Objective**: The main objective of the project is to develop a predictive model that can accurately estimate the number of Starbucks stores in a country based on a set of variables, such as GDP per capita, population, and easy of doing business. \n",
    "\n",
    "**Business Success Criteria**: For this project, the business success criteria have at least a 0.7 R-Squared value for the model's predictions.\n",
    "\n",
    "---\n",
    "\n",
    "**Dataset**: Two datasets available on Kaggle were used for Starbucks numbers in countries. The first of them belongs to 2016, the other belongs to 2021. In addition, World Bank data were used for parameters such as GPD and population of countries. World Bank data was obtained with the wbgapi library.\n",
    "\n",
    "[Starbucks Locations Worldwide 2016](https://www.kaggle.com/datasets/starbucks/store-locations)\n",
    "\n",
    "[Starbucks Locations Worldwide 2021](https://www.kaggle.com/datasets/kukuroo3/starbucks-locations-worldwide-2021-version)\n",
    "\n",
    "__Important note:__ _The Starbucks data set for 2021 was used only in the data analysis part with certain assumptions. The machine learning model was made according to the data set in 2016 and the World Bank data._\n",
    "\n",
    "---\n",
    "\n",
    "**Technologies and Tools**:\n",
    "\n",
    "* Programming Language:\n",
    "    * Python\n",
    "* Tools:\n",
    "    * Jupyter Notebook\n",
    "* Libraries\n",
    "    * Pandas\n",
    "    * Numpy\n",
    "    * Scikit-learn\n",
    "    * LighGBM\n",
    "    * CatBoost\n",
    "    * XGBoost\n",
    "\n",
    "Since the problem we are trying to solve involves predicting a continuous outcome, I will use regression models in both classical and relatively new machine learning models. This will allow us to explore different modeling approaches and compare their performance.\n",
    "\n",
    "List of models I used in this project as a result of my research:\n",
    "* Machine Learning Models\n",
    "    * Linear Regression\n",
    "    * Decision Tree Regression\n",
    "    * Random Forest Regression\n",
    "    * Boost Methods\n",
    "        * XGBoost\n",
    "        * LightGBM\n",
    "        * CatBoost\n"
   ]
  },
  {
   "attachments": {},
   "cell_type": "markdown",
   "metadata": {},
   "source": [
    "# B. Data Understanding "
   ]
  },
  {
   "attachments": {},
   "cell_type": "markdown",
   "metadata": {},
   "source": [
    "# C. Data Preparation"
   ]
  },
  {
   "attachments": {},
   "cell_type": "markdown",
   "metadata": {},
   "source": [
    "# D. Modelling"
   ]
  },
  {
   "attachments": {},
   "cell_type": "markdown",
   "metadata": {},
   "source": [
    "# E. Evaluation"
   ]
  },
  {
   "cell_type": "markdown",
   "metadata": {},
   "source": []
  }
 ],
 "metadata": {
  "language_info": {
   "name": "python"
  },
  "orig_nbformat": 4
 },
 "nbformat": 4,
 "nbformat_minor": 2
}
