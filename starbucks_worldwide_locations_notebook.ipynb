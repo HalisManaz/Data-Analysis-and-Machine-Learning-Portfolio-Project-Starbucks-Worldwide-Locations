{
 "cells": [
  {
   "attachments": {},
   "cell_type": "markdown",
   "metadata": {},
   "source": [
    "# Starbucks Worldwide Location Project"
   ]
  },
  {
   "attachments": {},
   "cell_type": "markdown",
   "metadata": {},
   "source": [
    "# CRISP-DM"
   ]
  },
  {
   "attachments": {},
   "cell_type": "markdown",
   "metadata": {},
   "source": [
    "# A. Business Understanding"
   ]
  },
  {
   "attachments": {},
   "cell_type": "markdown",
   "metadata": {},
   "source": [
    "**Business Objective**: The main objective of the project is to develop a predictive model that can accurately estimate the number of Starbucks stores in a country based on a set of variables, such as GDP per capita, population, and easy of doing business. \n",
    "\n",
    "**Business Success Criteria**: For this project, the business success criteria have at least a 0.7 R-Squared value for the model's predictions.\n",
    "\n",
    "---\n",
    "\n",
    "**Dataset**: Two datasets available on Kaggle were used for Starbucks numbers in countries. The first of them belongs to 2016, the other belongs to 2021. In addition, World Bank data were used for parameters such as GPD and population of countries. World Bank data was obtained with the wbgapi library.\n",
    "\n",
    "[Starbucks Locations Worldwide 2016](https://www.kaggle.com/datasets/starbucks/store-locations)\n",
    "\n",
    "[Starbucks Locations Worldwide 2021](https://www.kaggle.com/datasets/kukuroo3/starbucks-locations-worldwide-2021-version)\n",
    "\n",
    "__Important note:__ _The Starbucks data set for 2021 was used only in the data analysis part with certain assumptions. The machine learning model was made according to the data set in 2016 and the World Bank data._\n",
    "\n",
    "---\n",
    "\n",
    "**Technologies and Tools**:\n",
    "\n",
    "* Programming Language:\n",
    "    * Python\n",
    "* Tools:\n",
    "    * Jupyter Notebook\n",
    "* Libraries\n",
    "    * Pandas\n",
    "    * Numpy\n",
    "    * Scikit-learn\n",
    "    * LighGBM\n",
    "    * CatBoost\n",
    "    * XGBoost\n",
    "\n",
    "Since the problem we are trying to solve involves predicting a continuous outcome, I will use regression models in both classical and relatively new machine learning models. This will allow us to explore different modeling approaches and compare their performance.\n",
    "\n",
    "List of models I used in this project as a result of my research:\n",
    "* Machine Learning Models\n",
    "    * Linear Regression\n",
    "    * Decision Tree Regression\n",
    "    * Random Forest Regression\n",
    "    * Boost Methods\n",
    "        * XGBoost\n",
    "        * LightGBM\n",
    "        * CatBoost\n"
   ]
  },
  {
   "attachments": {},
   "cell_type": "markdown",
   "metadata": {},
   "source": [
    "# B. Data Understanding "
   ]
  },
  {
   "attachments": {},
   "cell_type": "markdown",
   "metadata": {},
   "source": [
    "## B.1 Install Libraries"
   ]
  },
  {
   "cell_type": "code",
   "execution_count": 1,
   "metadata": {},
   "outputs": [],
   "source": [
    "import numpy as np\n",
    "import pandas as pd\n",
    "\n",
    "import pycountry as pc\n",
    "import pycountry_convert as pcc\n",
    "import wbgapi as wb\n",
    "\n",
    "import matplotlib.pyplot as plt\n",
    "import matplotlib.cm as cm\n",
    "import seaborn as sns\n",
    "\n",
    "from sklearn.metrics import mean_absolute_error, mean_squared_error, r2_score\n",
    "from sklearn.model_selection import GridSearchCV, train_test_split, RepeatedKFold, KFold\n",
    "from sklearn.preprocessing import StandardScaler\n",
    "from sklearn import linear_model\n",
    "from sklearn.ensemble import RandomForestRegressor\n",
    "from sklearn.tree import DecisionTreeRegressor\n",
    "from xgboost import XGBRegressor\n",
    "from lightgbm import LGBMRegressor"
   ]
  },
  {
   "attachments": {},
   "cell_type": "markdown",
   "metadata": {},
   "source": [
    "## B.2 Collect Initial Data"
   ]
  },
  {
   "attachments": {},
   "cell_type": "markdown",
   "metadata": {},
   "source": [
    "### B.2.1 Starbucks Worldwide Locations"
   ]
  },
  {
   "cell_type": "code",
   "execution_count": 2,
   "metadata": {},
   "outputs": [],
   "source": [
    "starbucks_location_2016 = pd.read_csv('data/starbucks_locations_2016.csv', sep= ',')\n",
    "starbucks_location_2021 = pd.read_csv('data/starbucks_locations_2022.csv', sep= ',')"
   ]
  },
  {
   "attachments": {},
   "cell_type": "markdown",
   "metadata": {},
   "source": [
    "### B.2.2 World Bank Dataset"
   ]
  },
  {
   "cell_type": "code",
   "execution_count": 3,
   "metadata": {},
   "outputs": [
    {
     "data": {
      "text/html": [
       "<div class=\"wbgapi\"><table>\n",
       "<thead>\n",
       "<tr><th>id  </th><th>name                                                                </th><th>code  </th><th style=\"text-align: right;\">  concepts</th><th>lastupdated  </th></tr>\n",
       "</thead>\n",
       "<tbody>\n",
       "<tr><td>1   </td><td>Doing Business                                                      </td><td>DBS   </td><td style=\"text-align: right;\">         3</td><td>2021-08-18   </td></tr>\n",
       "<tr><td>2   </td><td>World Development Indicators                                        </td><td>WDI   </td><td style=\"text-align: right;\">         3</td><td>2022-12-22   </td></tr>\n",
       "<tr><td>3   </td><td>Worldwide Governance Indicators                                     </td><td>WGI   </td><td style=\"text-align: right;\">         3</td><td>2022-09-23   </td></tr>\n",
       "<tr><td>5   </td><td>Subnational Malnutrition Database                                   </td><td>SNM   </td><td style=\"text-align: right;\">         3</td><td>2016-03-21   </td></tr>\n",
       "<tr><td>6   </td><td>International Debt Statistics                                       </td><td>IDS   </td><td style=\"text-align: right;\">         4</td><td>2022-12-06   </td></tr>\n",
       "<tr><td>11  </td><td>Africa Development Indicators                                       </td><td>ADI   </td><td style=\"text-align: right;\">         3</td><td>2013-02-22   </td></tr>\n",
       "<tr><td>12  </td><td>Education Statistics                                                </td><td>EDS   </td><td style=\"text-align: right;\">         3</td><td>2020-12-20   </td></tr>\n",
       "<tr><td>13  </td><td>Enterprise Surveys                                                  </td><td>ESY   </td><td style=\"text-align: right;\">         3</td><td>2022-03-25   </td></tr>\n",
       "<tr><td>14  </td><td>Gender Statistics                                                   </td><td>GDS   </td><td style=\"text-align: right;\">         3</td><td>2022-06-23   </td></tr>\n",
       "<tr><td>15  </td><td>Global Economic Monitor                                             </td><td>GEM   </td><td style=\"text-align: right;\">         3</td><td>2020-07-27   </td></tr>\n",
       "<tr><td>16  </td><td>Health Nutrition and Population Statistics                          </td><td>HNP   </td><td style=\"text-align: right;\">         3</td><td>2022-12-23   </td></tr>\n",
       "<tr><td>18  </td><td>IDA Results Measurement System                                      </td><td>IDA   </td><td style=\"text-align: right;\">         3</td><td>2021-07-23   </td></tr>\n",
       "<tr><td>19  </td><td>Millennium Development Goals                                        </td><td>MDG   </td><td style=\"text-align: right;\">         3</td><td>2018-09-19   </td></tr>\n",
       "<tr><td>20  </td><td>Quarterly Public Sector Debt                                        </td><td>PSD   </td><td style=\"text-align: right;\">         3</td><td>2022-11-01   </td></tr>\n",
       "<tr><td>22  </td><td>Quarterly External Debt Statistics SDDS                             </td><td>QDS   </td><td style=\"text-align: right;\">         3</td><td>2022-10-31   </td></tr>\n",
       "<tr><td>23  </td><td>Quarterly External Debt Statistics GDDS                             </td><td>QDG   </td><td style=\"text-align: right;\">         3</td><td>2022-10-31   </td></tr>\n",
       "<tr><td>25  </td><td>Jobs                                                                </td><td>JOB   </td><td style=\"text-align: right;\">         3</td><td>2022-06-29   </td></tr>\n",
       "<tr><td>27  </td><td>Global Economic Prospects                                           </td><td>GEP   </td><td style=\"text-align: right;\">         3</td><td>2023-01-10   </td></tr>\n",
       "<tr><td>28  </td><td>Global Financial Inclusion                                          </td><td>FDX   </td><td style=\"text-align: right;\">         3</td><td>2022-10-24   </td></tr>\n",
       "<tr><td>29  </td><td>The Atlas of Social Protection: Indicators of Resilience and Equity </td><td>GSP   </td><td style=\"text-align: right;\">         3</td><td>2021-12-20   </td></tr>\n",
       "<tr><td>30  </td><td>Exporter Dynamics Database – Indicators at Country-Year Level       </td><td>ED1   </td><td style=\"text-align: right;\">         3</td><td>2016-03-31   </td></tr>\n",
       "<tr><td>31  </td><td>Country Policy and Institutional Assessment                         </td><td>CPI   </td><td style=\"text-align: right;\">         3</td><td>2022-09-15   </td></tr>\n",
       "<tr><td>32  </td><td>Global Financial Development                                        </td><td>GFD   </td><td style=\"text-align: right;\">         3</td><td>2022-09-23   </td></tr>\n",
       "<tr><td>33  </td><td>G20 Financial Inclusion Indicators                                  </td><td>G2F   </td><td style=\"text-align: right;\">         3</td><td>2019-02-27   </td></tr>\n",
       "<tr><td>34  </td><td>Global Partnership for Education                                    </td><td>GPE   </td><td style=\"text-align: right;\">         3</td><td>2013-04-12   </td></tr>\n",
       "<tr><td>35  </td><td>Sustainable Energy for All                                          </td><td>SE4   </td><td style=\"text-align: right;\">         3</td><td>2018-06-30   </td></tr>\n",
       "<tr><td>36  </td><td>Statistical Capacity Indicators                                     </td><td>BBS   </td><td style=\"text-align: right;\">         3</td><td>2021-02-03   </td></tr>\n",
       "<tr><td>37  </td><td>LAC Equity Lab                                                      </td><td>LEL   </td><td style=\"text-align: right;\">         3</td><td>2016-04-06   </td></tr>\n",
       "<tr><td>38  </td><td>Subnational Poverty                                                 </td><td>SNP   </td><td style=\"text-align: right;\">         3</td><td>2015-04-27   </td></tr>\n",
       "<tr><td>39  </td><td>Health Nutrition and Population Statistics by Wealth Quintile       </td><td>HNQ   </td><td style=\"text-align: right;\">         3</td><td>2021-12-13   </td></tr>\n",
       "<tr><td>40  </td><td>Population estimates and projections                                </td><td>HPP   </td><td style=\"text-align: right;\">         3</td><td>2022-12-23   </td></tr>\n",
       "<tr><td>41  </td><td>Country Partnership Strategy for India (FY2013 - 17)                </td><td>CPS   </td><td style=\"text-align: right;\">         3</td><td>2015-05-22   </td></tr>\n",
       "<tr><td>43  </td><td>Adjusted Net Savings                                                </td><td>WAT   </td><td style=\"text-align: right;\">         3</td><td>2022-09-20   </td></tr>\n",
       "<tr><td>45  </td><td>Indonesia Database for Policy and Economic Research                 </td><td>IDD   </td><td style=\"text-align: right;\">         3</td><td>2022-08-11   </td></tr>\n",
       "<tr><td>46  </td><td>Sustainable Development Goals                                       </td><td>SDG   </td><td style=\"text-align: right;\">         3</td><td>2022-07-22   </td></tr>\n",
       "<tr><td>50  </td><td>Subnational Population                                              </td><td>SNT   </td><td style=\"text-align: right;\">         3</td><td>2017-09-21   </td></tr>\n",
       "<tr><td>54  </td><td>Joint External Debt Hub                                             </td><td>JED   </td><td style=\"text-align: right;\">         3</td><td>2022-08-22   </td></tr>\n",
       "<tr><td>57  </td><td>WDI Database Archives                                               </td><td>WDA   </td><td style=\"text-align: right;\">         4</td><td>2022-11-01   </td></tr>\n",
       "<tr><td>58  </td><td>Universal Health Coverage                                           </td><td>UHC   </td><td style=\"text-align: right;\">         3</td><td>2019-04-25   </td></tr>\n",
       "<tr><td>59  </td><td>Wealth Accounts                                                     </td><td>WAC   </td><td style=\"text-align: right;\">         3</td><td>2021-10-27   </td></tr>\n",
       "<tr><td>60  </td><td>Economic Fitness                                                    </td><td>EFT   </td><td style=\"text-align: right;\">         3</td><td>2018-04-19   </td></tr>\n",
       "<tr><td>61  </td><td>PPPs Regulatory Quality                                             </td><td>PRQ   </td><td style=\"text-align: right;\">         3</td><td>2019-04-25   </td></tr>\n",
       "<tr><td>62  </td><td>International Comparison Program (ICP) 2011                         </td><td>ICP   </td><td style=\"text-align: right;\">         4</td><td>2020-08-24   </td></tr>\n",
       "<tr><td>63  </td><td>Human Capital Index                                                 </td><td>HCI   </td><td style=\"text-align: right;\">         3</td><td>2020-09-21   </td></tr>\n",
       "<tr><td>64  </td><td>Worldwide Bureaucracy Indicators                                    </td><td>WBI   </td><td style=\"text-align: right;\">         3</td><td>2022-09-20   </td></tr>\n",
       "<tr><td>65  </td><td>Health Equity and Financial Protection Indicators                   </td><td>HPI   </td><td style=\"text-align: right;\">         3</td><td>2019-11-06   </td></tr>\n",
       "<tr><td>66  </td><td>Logistics Performance Index                                         </td><td>LPI   </td><td style=\"text-align: right;\">         3</td><td>2019-10-29   </td></tr>\n",
       "<tr><td>67  </td><td>PEFA 2011                                                           </td><td>PF1   </td><td style=\"text-align: right;\">         4</td><td>2022-11-23   </td></tr>\n",
       "<tr><td>68  </td><td>PEFA 2016                                                           </td><td>PF6   </td><td style=\"text-align: right;\">         4</td><td>2023-01-12   </td></tr>\n",
       "<tr><td>69  </td><td>Global Financial Inclusion and Consumer Protection Survey           </td><td>RFA   </td><td style=\"text-align: right;\">         3</td><td>2019-06-27   </td></tr>\n",
       "<tr><td>70  </td><td>Economic Fitness 2                                                  </td><td>EF2   </td><td style=\"text-align: right;\">         3</td><td>2022-07-21   </td></tr>\n",
       "<tr><td>71  </td><td>International Comparison Program (ICP) 2005                         </td><td>IC5   </td><td style=\"text-align: right;\">         4</td><td>2021-09-10   </td></tr>\n",
       "<tr><td>73  </td><td>Global Financial Inclusion and Consumer Protection Survey (Internal)</td><td>RFI   </td><td style=\"text-align: right;\">         3</td><td>2019-06-27   </td></tr>\n",
       "<tr><td>75  </td><td>Environment, Social and Governance (ESG) Data                       </td><td>ESG   </td><td style=\"text-align: right;\">         3</td><td>2022-12-15   </td></tr>\n",
       "<tr><td>76  </td><td>Remittance Prices Worldwide (Sending Countries)                     </td><td>RWS   </td><td style=\"text-align: right;\">         3</td><td>2020-12-07   </td></tr>\n",
       "<tr><td>77  </td><td>Remittance Prices Worldwide (Receiving Countries)                   </td><td>RWR   </td><td style=\"text-align: right;\">         3</td><td>2020-12-07   </td></tr>\n",
       "<tr><td>78  </td><td>ICP 2017                                                            </td><td>IC7   </td><td style=\"text-align: right;\">         4</td><td>2020-10-21   </td></tr>\n",
       "<tr><td>79  </td><td>PEFA_GRPFM                                                          </td><td>GRP   </td><td style=\"text-align: right;\">         4</td><td>2022-12-18   </td></tr>\n",
       "<tr><td>80  </td><td>Gender Disaggregated Labor Database (GDLD)                          </td><td>GDL   </td><td style=\"text-align: right;\">         4</td><td>2020-07-25   </td></tr>\n",
       "<tr><td>81  </td><td>International Debt Statistics: DSSI                                 </td><td>DSI   </td><td style=\"text-align: right;\">         4</td><td>2022-12-06   </td></tr>\n",
       "<tr><td>82  </td><td>Global Public Procurement                                           </td><td>GPP   </td><td style=\"text-align: right;\">         3</td><td>2021-03-24   </td></tr>\n",
       "<tr><td>83  </td><td>Statistical Performance Indicators (SPI)                            </td><td>SPI   </td><td style=\"text-align: right;\">         3</td><td>2021-04-01   </td></tr>\n",
       "<tr><td>84  </td><td>Education Policy                                                    </td><td>EDP   </td><td style=\"text-align: right;\">         3</td><td>2022-07-19   </td></tr>\n",
       "<tr><td>85  </td><td>PEFA_2021_SNG                                                       </td><td>SNG   </td><td style=\"text-align: right;\">         4</td><td>2022-11-03   </td></tr>\n",
       "<tr><td>86  </td><td>Global Jobs Indicators Database (JOIN)                              </td><td>JON   </td><td style=\"text-align: right;\">         3</td><td>2021-09-24   </td></tr>\n",
       "<tr><td>87  </td><td>Country Climate and Development Report (CCDR)                       </td><td>CCD   </td><td style=\"text-align: right;\">         3</td><td>2022-10-07   </td></tr>\n",
       "<tr><td>88  </td><td>Food Prices for Nutrition                                           </td><td>FPN   </td><td style=\"text-align: right;\">         4</td><td>2022-07-05   </td></tr>\n",
       "<tr><td>89  </td><td>Identification for Development (ID4D) Data                          </td><td>ID4   </td><td style=\"text-align: right;\">         3</td><td>2022-12-21   </td></tr>\n",
       "<tr><td>    </td><td>68 elements                                                         </td><td>      </td><td style=\"text-align: right;\">          </td><td>             </td></tr>\n",
       "</tbody>\n",
       "</table></div>"
      ],
      "text/plain": [
       "id    name                                                                  code      concepts  lastupdated\n",
       "----  --------------------------------------------------------------------  ------  ----------  -------------\n",
       "1     Doing Business                                                        DBS              3  2021-08-18\n",
       "2     World Development Indicators                                          WDI              3  2022-12-22\n",
       "3     Worldwide Governance Indicators                                       WGI              3  2022-09-23\n",
       "5     Subnational Malnutrition Database                                     SNM              3  2016-03-21\n",
       "6     International Debt Statistics                                         IDS              4  2022-12-06\n",
       "11    Africa Development Indicators                                         ADI              3  2013-02-22\n",
       "12    Education Statistics                                                  EDS              3  2020-12-20\n",
       "13    Enterprise Surveys                                                    ESY              3  2022-03-25\n",
       "14    Gender Statistics                                                     GDS              3  2022-06-23\n",
       "15    Global Economic Monitor                                               GEM              3  2020-07-27\n",
       "16    Health Nutrition and Population Statistics                            HNP              3  2022-12-23\n",
       "18    IDA Results Measurement System                                        IDA              3  2021-07-23\n",
       "19    Millennium Development Goals                                          MDG              3  2018-09-19\n",
       "20    Quarterly Public Sector Debt                                          PSD              3  2022-11-01\n",
       "22    Quarterly External Debt Statistics SDDS                               QDS              3  2022-10-31\n",
       "23    Quarterly External Debt Statistics GDDS                               QDG              3  2022-10-31\n",
       "25    Jobs                                                                  JOB              3  2022-06-29\n",
       "27    Global Economic Prospects                                             GEP              3  2023-01-10\n",
       "28    Global Financial Inclusion                                            FDX              3  2022-10-24\n",
       "29    The Atlas of Social Protection: Indicators of Resilience and Equity   GSP              3  2021-12-20\n",
       "30    Exporter Dynamics Database – Indicators at Country-Year Level         ED1              3  2016-03-31\n",
       "31    Country Policy and Institutional Assessment                           CPI              3  2022-09-15\n",
       "32    Global Financial Development                                          GFD              3  2022-09-23\n",
       "33    G20 Financial Inclusion Indicators                                    G2F              3  2019-02-27\n",
       "34    Global Partnership for Education                                      GPE              3  2013-04-12\n",
       "35    Sustainable Energy for All                                            SE4              3  2018-06-30\n",
       "36    Statistical Capacity Indicators                                       BBS              3  2021-02-03\n",
       "37    LAC Equity Lab                                                        LEL              3  2016-04-06\n",
       "38    Subnational Poverty                                                   SNP              3  2015-04-27\n",
       "39    Health Nutrition and Population Statistics by Wealth Quintile         HNQ              3  2021-12-13\n",
       "40    Population estimates and projections                                  HPP              3  2022-12-23\n",
       "41    Country Partnership Strategy for India (FY2013 - 17)                  CPS              3  2015-05-22\n",
       "43    Adjusted Net Savings                                                  WAT              3  2022-09-20\n",
       "45    Indonesia Database for Policy and Economic Research                   IDD              3  2022-08-11\n",
       "46    Sustainable Development Goals                                         SDG              3  2022-07-22\n",
       "50    Subnational Population                                                SNT              3  2017-09-21\n",
       "54    Joint External Debt Hub                                               JED              3  2022-08-22\n",
       "57    WDI Database Archives                                                 WDA              4  2022-11-01\n",
       "58    Universal Health Coverage                                             UHC              3  2019-04-25\n",
       "59    Wealth Accounts                                                       WAC              3  2021-10-27\n",
       "60    Economic Fitness                                                      EFT              3  2018-04-19\n",
       "61    PPPs Regulatory Quality                                               PRQ              3  2019-04-25\n",
       "62    International Comparison Program (ICP) 2011                           ICP              4  2020-08-24\n",
       "63    Human Capital Index                                                   HCI              3  2020-09-21\n",
       "64    Worldwide Bureaucracy Indicators                                      WBI              3  2022-09-20\n",
       "65    Health Equity and Financial Protection Indicators                     HPI              3  2019-11-06\n",
       "66    Logistics Performance Index                                           LPI              3  2019-10-29\n",
       "67    PEFA 2011                                                             PF1              4  2022-11-23\n",
       "68    PEFA 2016                                                             PF6              4  2023-01-12\n",
       "69    Global Financial Inclusion and Consumer Protection Survey             RFA              3  2019-06-27\n",
       "70    Economic Fitness 2                                                    EF2              3  2022-07-21\n",
       "71    International Comparison Program (ICP) 2005                           IC5              4  2021-09-10\n",
       "73    Global Financial Inclusion and Consumer Protection Survey (Internal)  RFI              3  2019-06-27\n",
       "75    Environment, Social and Governance (ESG) Data                         ESG              3  2022-12-15\n",
       "76    Remittance Prices Worldwide (Sending Countries)                       RWS              3  2020-12-07\n",
       "77    Remittance Prices Worldwide (Receiving Countries)                     RWR              3  2020-12-07\n",
       "78    ICP 2017                                                              IC7              4  2020-10-21\n",
       "79    PEFA_GRPFM                                                            GRP              4  2022-12-18\n",
       "80    Gender Disaggregated Labor Database (GDLD)                            GDL              4  2020-07-25\n",
       "81    International Debt Statistics: DSSI                                   DSI              4  2022-12-06\n",
       "82    Global Public Procurement                                             GPP              3  2021-03-24\n",
       "83    Statistical Performance Indicators (SPI)                              SPI              3  2021-04-01\n",
       "84    Education Policy                                                      EDP              3  2022-07-19\n",
       "85    PEFA_2021_SNG                                                         SNG              4  2022-11-03\n",
       "86    Global Jobs Indicators Database (JOIN)                                JON              3  2021-09-24\n",
       "87    Country Climate and Development Report (CCDR)                         CCD              3  2022-10-07\n",
       "88    Food Prices for Nutrition                                             FPN              4  2022-07-05\n",
       "89    Identification for Development (ID4D) Data                            ID4              3  2022-12-21\n",
       "      68 elements"
      ]
     },
     "execution_count": 3,
     "metadata": {},
     "output_type": "execute_result"
    }
   ],
   "source": [
    "wb.source.info()"
   ]
  },
  {
   "cell_type": "code",
   "execution_count": 4,
   "metadata": {},
   "outputs": [
    {
     "data": {
      "text/html": [
       "<div class=\"wbgapi\"><table>\n",
       "<thead>\n",
       "<tr><th>id                     </th><th>value                                                                                                                          </th></tr>\n",
       "</thead>\n",
       "<tbody>\n",
       "<tr><td>EN.ATM.PM25.MC.T1.ZS   </td><td>PM2.5 pollution, population exposed to levels exceeding WHO Interim Target-1 value (% of total)                                </td></tr>\n",
       "<tr><td>EN.ATM.PM25.MC.T2.ZS   </td><td>PM2.5 pollution, population exposed to levels exceeding WHO Interim Target-2 value (% of total)                                </td></tr>\n",
       "<tr><td>EN.ATM.PM25.MC.T3.ZS   </td><td>PM2.5 pollution, population exposed to levels exceeding WHO Interim Target-3 value (% of total)                                </td></tr>\n",
       "<tr><td>EN.ATM.PM25.MC.ZS      </td><td>PM2.5 air pollution, population exposed to levels exceeding WHO guideline value (% of total)                                   </td></tr>\n",
       "<tr><td>EN.POP.DNST            </td><td>Population density (people per sq. km of land area)                                                                            </td></tr>\n",
       "<tr><td>EN.POP.EL5M.RU.ZS      </td><td>Rural population living in areas where elevation is below 5 meters (% of total population)                                     </td></tr>\n",
       "<tr><td>EN.POP.EL5M.UR.ZS      </td><td>Urban population living in areas where elevation is below 5 meters (% of total population)                                     </td></tr>\n",
       "<tr><td>EN.POP.EL5M.ZS         </td><td>Population living in areas where elevation is below 5 meters (% of total population)                                           </td></tr>\n",
       "<tr><td>EN.POP.SLUM.UR.ZS      </td><td>Population living in slums (% of urban population)                                                                             </td></tr>\n",
       "<tr><td>EN.URB.LCTY            </td><td>Population in largest city                                                                                                     </td></tr>\n",
       "<tr><td>EN.URB.LCTY.UR.ZS      </td><td>Population in the largest city (% of urban population)                                                                         </td></tr>\n",
       "<tr><td>EN.URB.MCTY            </td><td>Population in urban agglomerations of more than 1 million                                                                      </td></tr>\n",
       "<tr><td>EN.URB.MCTY.TL.ZS      </td><td>Population in urban agglomerations of more than 1 million (% of total population)                                              </td></tr>\n",
       "<tr><td>SE.PRM.CUAT.FE.ZS      </td><td>Educational attainment, at least completed primary, population 25+ years, female (%) (cumulative)                              </td></tr>\n",
       "<tr><td>SE.PRM.CUAT.MA.ZS      </td><td>Educational attainment, at least completed primary, population 25+ years, male (%) (cumulative)                                </td></tr>\n",
       "<tr><td>SE.PRM.CUAT.ZS         </td><td>Educational attainment, at least completed primary, population 25+ years, total (%) (cumulative)                               </td></tr>\n",
       "<tr><td>SE.SEC.CUAT.LO.FE.ZS   </td><td>Educational attainment, at least completed lower secondary, population 25+, female (%) (cumulative)                            </td></tr>\n",
       "<tr><td>SE.SEC.CUAT.LO.MA.ZS   </td><td>Educational attainment, at least completed lower secondary, population 25+, male (%) (cumulative)                              </td></tr>\n",
       "<tr><td>SE.SEC.CUAT.LO.ZS      </td><td>Educational attainment, at least completed lower secondary, population 25+, total (%) (cumulative)                             </td></tr>\n",
       "<tr><td>SE.SEC.CUAT.PO.FE.ZS   </td><td>Educational attainment, at least completed post-secondary, population 25+, female (%) (cumulative)                             </td></tr>\n",
       "<tr><td>SE.SEC.CUAT.PO.MA.ZS   </td><td>Educational attainment, at least completed post-secondary, population 25+, male (%) (cumulative)                               </td></tr>\n",
       "<tr><td>SE.SEC.CUAT.PO.ZS      </td><td>Educational attainment, at least completed post-secondary, population 25+, total (%) (cumulative)                              </td></tr>\n",
       "<tr><td>SE.SEC.CUAT.UP.FE.ZS   </td><td>Educational attainment, at least completed upper secondary, population 25+, female (%) (cumulative)                            </td></tr>\n",
       "<tr><td>SE.SEC.CUAT.UP.MA.ZS   </td><td>Educational attainment, at least completed upper secondary, population 25+, male (%) (cumulative)                              </td></tr>\n",
       "<tr><td>SE.SEC.CUAT.UP.ZS      </td><td>Educational attainment, at least completed upper secondary, population 25+, total (%) (cumulative)                             </td></tr>\n",
       "<tr><td>SE.TER.CUAT.BA.FE.ZS   </td><td>Educational attainment, at least Bachelor&#x27;s or equivalent, population 25+, female (%) (cumulative)                             </td></tr>\n",
       "<tr><td>SE.TER.CUAT.BA.MA.ZS   </td><td>Educational attainment, at least Bachelor&#x27;s or equivalent, population 25+, male (%) (cumulative)                               </td></tr>\n",
       "<tr><td>SE.TER.CUAT.BA.ZS      </td><td>Educational attainment, at least Bachelor&#x27;s or equivalent, population 25+, total (%) (cumulative)                              </td></tr>\n",
       "<tr><td>SE.TER.CUAT.DO.FE.ZS   </td><td>Educational attainment, Doctoral or equivalent, population 25+, female (%) (cumulative)                                        </td></tr>\n",
       "<tr><td>SE.TER.CUAT.DO.MA.ZS   </td><td>Educational attainment, Doctoral or equivalent, population 25+, male (%) (cumulative)                                          </td></tr>\n",
       "<tr><td>SE.TER.CUAT.DO.ZS      </td><td>Educational attainment, Doctoral or equivalent, population 25+, total (%) (cumulative)                                         </td></tr>\n",
       "<tr><td>SE.TER.CUAT.MS.FE.ZS   </td><td>Educational attainment, at least Master&#x27;s or equivalent, population 25+, female (%) (cumulative)                               </td></tr>\n",
       "<tr><td>SE.TER.CUAT.MS.MA.ZS   </td><td>Educational attainment, at least Master&#x27;s or equivalent, population 25+, male (%) (cumulative)                                 </td></tr>\n",
       "<tr><td>SE.TER.CUAT.MS.ZS      </td><td>Educational attainment, at least Master&#x27;s or equivalent, population 25+, total (%) (cumulative)                                </td></tr>\n",
       "<tr><td>SE.TER.CUAT.ST.FE.ZS   </td><td>Educational attainment, at least completed short-cycle tertiary, population 25+, female (%) (cumulative)                       </td></tr>\n",
       "<tr><td>SE.TER.CUAT.ST.MA.ZS   </td><td>Educational attainment, at least completed short-cycle tertiary, population 25+, male (%) (cumulative)                         </td></tr>\n",
       "<tr><td>SE.TER.CUAT.ST.ZS      </td><td>Educational attainment, at least completed short-cycle tertiary, population 25+, total (%) (cumulative)                        </td></tr>\n",
       "<tr><td>SH.CON.1524.FE.ZS      </td><td>Condom use, population ages 15-24, female (% of females ages 15-24)                                                            </td></tr>\n",
       "<tr><td>SH.CON.1524.MA.ZS      </td><td>Condom use, population ages 15-24, male (% of males ages 15-24)                                                                </td></tr>\n",
       "<tr><td>SH.DYN.AIDS.FE.ZS      </td><td>Women&#x27;s share of population ages 15+ living with HIV (%)                                                                       </td></tr>\n",
       "<tr><td>SH.UHC.NOP1.ZS         </td><td>Proportion of population pushed below the $1.90 ($ 2011 PPP) poverty line by out-of-pocket health care expenditure (%)         </td></tr>\n",
       "<tr><td>SH.UHC.NOP2.ZS         </td><td>Proportion of population pushed below the $3.20 ($ 2011 PPP) poverty line by out-of-pocket health care expenditure (%)         </td></tr>\n",
       "<tr><td>SH.UHC.OOPC.10.ZS      </td><td>Proportion of population spending more than 10% of household consumption or income on out-of-pocket health care expenditure (%)</td></tr>\n",
       "<tr><td>SH.UHC.OOPC.25.ZS      </td><td>Proportion of population spending more than 25% of household consumption or income on out-of-pocket health care expenditure (%)</td></tr>\n",
       "<tr><td>SI.POV.MDIM.17.XQ      </td><td>Multidimensional poverty index, children (population ages 0-17) (scale 0-1)                                                    </td></tr>\n",
       "<tr><td>SI.SPR.PC40            </td><td>Survey mean consumption or income per capita, bottom 40% of population (2017 PPP $ per day)                                    </td></tr>\n",
       "<tr><td>SI.SPR.PC40.ZG         </td><td>Annualized average growth rate in per capita real survey mean consumption or income, bottom 40% of population (%)              </td></tr>\n",
       "<tr><td>SI.SPR.PCAP            </td><td>Survey mean consumption or income per capita, total population (2017 PPP $ per day)                                            </td></tr>\n",
       "<tr><td>SI.SPR.PCAP.ZG         </td><td>Annualized average growth rate in per capita real survey mean consumption or income, total population (%)                      </td></tr>\n",
       "<tr><td>SL.EMP.1524.SP.FE.NE.ZS</td><td>Employment to population ratio, ages 15-24, female (%) (national estimate)                                                     </td></tr>\n",
       "<tr><td>SL.EMP.1524.SP.FE.ZS   </td><td>Employment to population ratio, ages 15-24, female (%) (modeled ILO estimate)                                                  </td></tr>\n",
       "<tr><td>SL.EMP.1524.SP.MA.NE.ZS</td><td>Employment to population ratio, ages 15-24, male (%) (national estimate)                                                       </td></tr>\n",
       "<tr><td>SL.EMP.1524.SP.MA.ZS   </td><td>Employment to population ratio, ages 15-24, male (%) (modeled ILO estimate)                                                    </td></tr>\n",
       "<tr><td>SL.EMP.1524.SP.NE.ZS   </td><td>Employment to population ratio, ages 15-24, total (%) (national estimate)                                                      </td></tr>\n",
       "<tr><td>SL.EMP.1524.SP.ZS      </td><td>Employment to population ratio, ages 15-24, total (%) (modeled ILO estimate)                                                   </td></tr>\n",
       "<tr><td>SL.EMP.TOTL.SP.FE.NE.ZS</td><td>Employment to population ratio, 15+, female (%) (national estimate)                                                            </td></tr>\n",
       "<tr><td>SL.EMP.TOTL.SP.FE.ZS   </td><td>Employment to population ratio, 15+, female (%) (modeled ILO estimate)                                                         </td></tr>\n",
       "<tr><td>SL.EMP.TOTL.SP.MA.NE.ZS</td><td>Employment to population ratio, 15+, male (%) (national estimate)                                                              </td></tr>\n",
       "<tr><td>SL.EMP.TOTL.SP.MA.ZS   </td><td>Employment to population ratio, 15+, male (%) (modeled ILO estimate)                                                           </td></tr>\n",
       "<tr><td>SL.EMP.TOTL.SP.NE.ZS   </td><td>Employment to population ratio, 15+, total (%) (national estimate)                                                             </td></tr>\n",
       "<tr><td>SL.EMP.TOTL.SP.ZS      </td><td>Employment to population ratio, 15+, total (%) (modeled ILO estimate)                                                          </td></tr>\n",
       "<tr><td>SL.TLF.ACTI.FE.ZS      </td><td>Labor force participation rate, female (% of female population ages 15-64) (modeled ILO estimate)                              </td></tr>\n",
       "<tr><td>SL.TLF.ACTI.MA.ZS      </td><td>Labor force participation rate, male (% of male population ages 15-64) (modeled ILO estimate)                                  </td></tr>\n",
       "<tr><td>SL.TLF.ACTI.ZS         </td><td>Labor force participation rate, total (% of total population ages 15-64) (modeled ILO estimate)                                </td></tr>\n",
       "<tr><td>SL.TLF.CACT.FE.NE.ZS   </td><td>Labor force participation rate, female (% of female population ages 15+) (national estimate)                                   </td></tr>\n",
       "<tr><td>SL.TLF.CACT.FE.ZS      </td><td>Labor force participation rate, female (% of female population ages 15+) (modeled ILO estimate)                                </td></tr>\n",
       "<tr><td>SL.TLF.CACT.MA.NE.ZS   </td><td>Labor force participation rate, male (% of male population ages 15+) (national estimate)                                       </td></tr>\n",
       "<tr><td>SL.TLF.CACT.MA.ZS      </td><td>Labor force participation rate, male (% of male population ages 15+) (modeled ILO estimate)                                    </td></tr>\n",
       "<tr><td>SL.TLF.CACT.NE.ZS      </td><td>Labor force participation rate, total (% of total population ages 15+) (national estimate)                                     </td></tr>\n",
       "<tr><td>SL.TLF.CACT.ZS         </td><td>Labor force participation rate, total (% of total population ages 15+) (modeled ILO estimate)                                  </td></tr>\n",
       "<tr><td>SM.POP.REFG            </td><td>Refugee population by country or territory of asylum                                                                           </td></tr>\n",
       "<tr><td>SM.POP.REFG.OR         </td><td>Refugee population by country or territory of origin                                                                           </td></tr>\n",
       "<tr><td>SN.ITK.MSFI.ZS         </td><td>Prevalence of moderate or severe food insecurity in the population (%)                                                         </td></tr>\n",
       "<tr><td>SN.ITK.SVFI.ZS         </td><td>Prevalence of severe food insecurity in the population (%)                                                                     </td></tr>\n",
       "<tr><td>SP.POP.0004.FE.5Y      </td><td>Population ages 00-04, female (% of female population)                                                                         </td></tr>\n",
       "<tr><td>SP.POP.0004.MA.5Y      </td><td>Population ages 00-04, male (% of male population)                                                                             </td></tr>\n",
       "<tr><td>SP.POP.0014.FE.IN      </td><td>Population ages 0-14, female                                                                                                   </td></tr>\n",
       "<tr><td>SP.POP.0014.FE.ZS      </td><td>Population ages 0-14, female (% of female population)                                                                          </td></tr>\n",
       "<tr><td>SP.POP.0014.MA.IN      </td><td>Population ages 0-14, male                                                                                                     </td></tr>\n",
       "<tr><td>SP.POP.0014.MA.ZS      </td><td>Population ages 0-14, male (% of male population)                                                                              </td></tr>\n",
       "<tr><td>SP.POP.0014.TO         </td><td>Population ages 0-14, total                                                                                                    </td></tr>\n",
       "<tr><td>SP.POP.0014.TO.ZS      </td><td>Population ages 0-14 (% of total population)                                                                                   </td></tr>\n",
       "<tr><td>SP.POP.0509.FE.5Y      </td><td>Population ages 05-09, female (% of female population)                                                                         </td></tr>\n",
       "<tr><td>SP.POP.0509.MA.5Y      </td><td>Population ages 05-09, male (% of male population)                                                                             </td></tr>\n",
       "<tr><td>SP.POP.1014.FE.5Y      </td><td>Population ages 10-14, female (% of female population)                                                                         </td></tr>\n",
       "<tr><td>SP.POP.1014.MA.5Y      </td><td>Population ages 10-14, male (% of male population)                                                                             </td></tr>\n",
       "<tr><td>SP.POP.1519.FE.5Y      </td><td>Population ages 15-19, female (% of female population)                                                                         </td></tr>\n",
       "<tr><td>SP.POP.1519.MA.5Y      </td><td>Population ages 15-19, male (% of male population)                                                                             </td></tr>\n",
       "<tr><td>SP.POP.1564.FE.IN      </td><td>Population ages 15-64, female                                                                                                  </td></tr>\n",
       "<tr><td>SP.POP.1564.FE.ZS      </td><td>Population ages 15-64, female (% of female population)                                                                         </td></tr>\n",
       "<tr><td>SP.POP.1564.MA.IN      </td><td>Population ages 15-64, male                                                                                                    </td></tr>\n",
       "<tr><td>SP.POP.1564.MA.ZS      </td><td>Population ages 15-64, male (% of male population)                                                                             </td></tr>\n",
       "<tr><td>SP.POP.1564.TO         </td><td>Population ages 15-64, total                                                                                                   </td></tr>\n",
       "<tr><td>SP.POP.1564.TO.ZS      </td><td>Population ages 15-64 (% of total population)                                                                                  </td></tr>\n",
       "<tr><td>SP.POP.2024.FE.5Y      </td><td>Population ages 20-24, female (% of female population)                                                                         </td></tr>\n",
       "<tr><td>SP.POP.2024.MA.5Y      </td><td>Population ages 20-24, male (% of male population)                                                                             </td></tr>\n",
       "<tr><td>SP.POP.2529.FE.5Y      </td><td>Population ages 25-29, female (% of female population)                                                                         </td></tr>\n",
       "<tr><td>SP.POP.2529.MA.5Y      </td><td>Population ages 25-29, male (% of male population)                                                                             </td></tr>\n",
       "<tr><td>SP.POP.3034.FE.5Y      </td><td>Population ages 30-34, female (% of female population)                                                                         </td></tr>\n",
       "<tr><td>SP.POP.3034.MA.5Y      </td><td>Population ages 30-34, male (% of male population)                                                                             </td></tr>\n",
       "<tr><td>SP.POP.3539.FE.5Y      </td><td>Population ages 35-39, female (% of female population)                                                                         </td></tr>\n",
       "<tr><td>SP.POP.3539.MA.5Y      </td><td>Population ages 35-39, male (% of male population)                                                                             </td></tr>\n",
       "<tr><td>SP.POP.4044.FE.5Y      </td><td>Population ages 40-44, female (% of female population)                                                                         </td></tr>\n",
       "<tr><td>SP.POP.4044.MA.5Y      </td><td>Population ages 40-44, male (% of male population)                                                                             </td></tr>\n",
       "<tr><td>SP.POP.4549.FE.5Y      </td><td>Population ages 45-49, female (% of female population)                                                                         </td></tr>\n",
       "<tr><td>SP.POP.4549.MA.5Y      </td><td>Population ages 45-49, male (% of male population)                                                                             </td></tr>\n",
       "<tr><td>SP.POP.5054.FE.5Y      </td><td>Population ages 50-54, female (% of female population)                                                                         </td></tr>\n",
       "<tr><td>SP.POP.5054.MA.5Y      </td><td>Population ages 50-54, male (% of male population)                                                                             </td></tr>\n",
       "<tr><td>SP.POP.5559.FE.5Y      </td><td>Population ages 55-59, female (% of female population)                                                                         </td></tr>\n",
       "<tr><td>SP.POP.5559.MA.5Y      </td><td>Population ages 55-59, male (% of male population)                                                                             </td></tr>\n",
       "<tr><td>SP.POP.6064.FE.5Y      </td><td>Population ages 60-64, female (% of female population)                                                                         </td></tr>\n",
       "<tr><td>SP.POP.6064.MA.5Y      </td><td>Population ages 60-64, male (% of male population)                                                                             </td></tr>\n",
       "<tr><td>SP.POP.6569.FE.5Y      </td><td>Population ages 65-69, female (% of female population)                                                                         </td></tr>\n",
       "<tr><td>SP.POP.6569.MA.5Y      </td><td>Population ages 65-69, male (% of male population)                                                                             </td></tr>\n",
       "<tr><td>SP.POP.65UP.FE.IN      </td><td>Population ages 65 and above, female                                                                                           </td></tr>\n",
       "<tr><td>SP.POP.65UP.FE.ZS      </td><td>Population ages 65 and above, female (% of female population)                                                                  </td></tr>\n",
       "<tr><td>SP.POP.65UP.MA.IN      </td><td>Population ages 65 and above, male                                                                                             </td></tr>\n",
       "<tr><td>SP.POP.65UP.MA.ZS      </td><td>Population ages 65 and above, male (% of male population)                                                                      </td></tr>\n",
       "<tr><td>SP.POP.65UP.TO         </td><td>Population ages 65 and above, total                                                                                            </td></tr>\n",
       "<tr><td>SP.POP.65UP.TO.ZS      </td><td>Population ages 65 and above (% of total population)                                                                           </td></tr>\n",
       "<tr><td>SP.POP.7074.FE.5Y      </td><td>Population ages 70-74, female (% of female population)                                                                         </td></tr>\n",
       "<tr><td>SP.POP.7074.MA.5Y      </td><td>Population ages 70-74, male (% of male population)                                                                             </td></tr>\n",
       "<tr><td>SP.POP.7579.FE.5Y      </td><td>Population ages 75-79, female (% of female population)                                                                         </td></tr>\n",
       "<tr><td>SP.POP.7579.MA.5Y      </td><td>Population ages 75-79, male (% of male population)                                                                             </td></tr>\n",
       "<tr><td>SP.POP.80UP.FE.5Y      </td><td>Population ages 80 and above, female (% of female population)                                                                  </td></tr>\n",
       "<tr><td>SP.POP.80UP.MA.5Y      </td><td>Population ages 80 and above, male (% of male population)                                                                      </td></tr>\n",
       "<tr><td>SP.POP.GROW            </td><td>Population growth (annual %)                                                                                                   </td></tr>\n",
       "<tr><td>SP.POP.TOTL            </td><td>Population, total                                                                                                              </td></tr>\n",
       "<tr><td>SP.POP.TOTL.FE.IN      </td><td>Population, female                                                                                                             </td></tr>\n",
       "<tr><td>SP.POP.TOTL.FE.ZS      </td><td>Population, female (% of total population)                                                                                     </td></tr>\n",
       "<tr><td>SP.POP.TOTL.MA.IN      </td><td>Population, male                                                                                                               </td></tr>\n",
       "<tr><td>SP.POP.TOTL.MA.ZS      </td><td>Population, male (% of total population)                                                                                       </td></tr>\n",
       "<tr><td>SP.RUR.TOTL            </td><td>Rural population                                                                                                               </td></tr>\n",
       "<tr><td>SP.RUR.TOTL.ZG         </td><td>Rural population growth (annual %)                                                                                             </td></tr>\n",
       "<tr><td>SP.RUR.TOTL.ZS         </td><td>Rural population (% of total population)                                                                                       </td></tr>\n",
       "<tr><td>SP.URB.GROW            </td><td>Urban population growth (annual %)                                                                                             </td></tr>\n",
       "<tr><td>SP.URB.TOTL            </td><td>Urban population                                                                                                               </td></tr>\n",
       "<tr><td>SP.URB.TOTL.IN.ZS      </td><td>Urban population (% of total population)                                                                                       </td></tr>\n",
       "<tr><td>                       </td><td>138 elements                                                                                                                   </td></tr>\n",
       "</tbody>\n",
       "</table></div>"
      ],
      "text/plain": [
       "id                       value\n",
       "-----------------------  -------------------------------------------------------------------------------------------------------------------------------\n",
       "EN.ATM.PM25.MC.T1.ZS     PM2.5 pollution, population exposed to levels exceeding WHO Interim Target-1 value (% of total)\n",
       "EN.ATM.PM25.MC.T2.ZS     PM2.5 pollution, population exposed to levels exceeding WHO Interim Target-2 value (% of total)\n",
       "EN.ATM.PM25.MC.T3.ZS     PM2.5 pollution, population exposed to levels exceeding WHO Interim Target-3 value (% of total)\n",
       "EN.ATM.PM25.MC.ZS        PM2.5 air pollution, population exposed to levels exceeding WHO guideline value (% of total)\n",
       "EN.POP.DNST              Population density (people per sq. km of land area)\n",
       "EN.POP.EL5M.RU.ZS        Rural population living in areas where elevation is below 5 meters (% of total population)\n",
       "EN.POP.EL5M.UR.ZS        Urban population living in areas where elevation is below 5 meters (% of total population)\n",
       "EN.POP.EL5M.ZS           Population living in areas where elevation is below 5 meters (% of total population)\n",
       "EN.POP.SLUM.UR.ZS        Population living in slums (% of urban population)\n",
       "EN.URB.LCTY              Population in largest city\n",
       "EN.URB.LCTY.UR.ZS        Population in the largest city (% of urban population)\n",
       "EN.URB.MCTY              Population in urban agglomerations of more than 1 million\n",
       "EN.URB.MCTY.TL.ZS        Population in urban agglomerations of more than 1 million (% of total population)\n",
       "SE.PRM.CUAT.FE.ZS        Educational attainment, at least completed primary, population 25+ years, female (%) (cumulative)\n",
       "SE.PRM.CUAT.MA.ZS        Educational attainment, at least completed primary, population 25+ years, male (%) (cumulative)\n",
       "SE.PRM.CUAT.ZS           Educational attainment, at least completed primary, population 25+ years, total (%) (cumulative)\n",
       "SE.SEC.CUAT.LO.FE.ZS     Educational attainment, at least completed lower secondary, population 25+, female (%) (cumulative)\n",
       "SE.SEC.CUAT.LO.MA.ZS     Educational attainment, at least completed lower secondary, population 25+, male (%) (cumulative)\n",
       "SE.SEC.CUAT.LO.ZS        Educational attainment, at least completed lower secondary, population 25+, total (%) (cumulative)\n",
       "SE.SEC.CUAT.PO.FE.ZS     Educational attainment, at least completed post-secondary, population 25+, female (%) (cumulative)\n",
       "SE.SEC.CUAT.PO.MA.ZS     Educational attainment, at least completed post-secondary, population 25+, male (%) (cumulative)\n",
       "SE.SEC.CUAT.PO.ZS        Educational attainment, at least completed post-secondary, population 25+, total (%) (cumulative)\n",
       "SE.SEC.CUAT.UP.FE.ZS     Educational attainment, at least completed upper secondary, population 25+, female (%) (cumulative)\n",
       "SE.SEC.CUAT.UP.MA.ZS     Educational attainment, at least completed upper secondary, population 25+, male (%) (cumulative)\n",
       "SE.SEC.CUAT.UP.ZS        Educational attainment, at least completed upper secondary, population 25+, total (%) (cumulative)\n",
       "SE.TER.CUAT.BA.FE.ZS     Educational attainment, at least Bachelor's or equivalent, population 25+, female (%) (cumulative)\n",
       "SE.TER.CUAT.BA.MA.ZS     Educational attainment, at least Bachelor's or equivalent, population 25+, male (%) (cumulative)\n",
       "SE.TER.CUAT.BA.ZS        Educational attainment, at least Bachelor's or equivalent, population 25+, total (%) (cumulative)\n",
       "SE.TER.CUAT.DO.FE.ZS     Educational attainment, Doctoral or equivalent, population 25+, female (%) (cumulative)\n",
       "SE.TER.CUAT.DO.MA.ZS     Educational attainment, Doctoral or equivalent, population 25+, male (%) (cumulative)\n",
       "SE.TER.CUAT.DO.ZS        Educational attainment, Doctoral or equivalent, population 25+, total (%) (cumulative)\n",
       "SE.TER.CUAT.MS.FE.ZS     Educational attainment, at least Master's or equivalent, population 25+, female (%) (cumulative)\n",
       "SE.TER.CUAT.MS.MA.ZS     Educational attainment, at least Master's or equivalent, population 25+, male (%) (cumulative)\n",
       "SE.TER.CUAT.MS.ZS        Educational attainment, at least Master's or equivalent, population 25+, total (%) (cumulative)\n",
       "SE.TER.CUAT.ST.FE.ZS     Educational attainment, at least completed short-cycle tertiary, population 25+, female (%) (cumulative)\n",
       "SE.TER.CUAT.ST.MA.ZS     Educational attainment, at least completed short-cycle tertiary, population 25+, male (%) (cumulative)\n",
       "SE.TER.CUAT.ST.ZS        Educational attainment, at least completed short-cycle tertiary, population 25+, total (%) (cumulative)\n",
       "SH.CON.1524.FE.ZS        Condom use, population ages 15-24, female (% of females ages 15-24)\n",
       "SH.CON.1524.MA.ZS        Condom use, population ages 15-24, male (% of males ages 15-24)\n",
       "SH.DYN.AIDS.FE.ZS        Women's share of population ages 15+ living with HIV (%)\n",
       "SH.UHC.NOP1.ZS           Proportion of population pushed below the $1.90 ($ 2011 PPP) poverty line by out-of-pocket health care expenditure (%)\n",
       "SH.UHC.NOP2.ZS           Proportion of population pushed below the $3.20 ($ 2011 PPP) poverty line by out-of-pocket health care expenditure (%)\n",
       "SH.UHC.OOPC.10.ZS        Proportion of population spending more than 10% of household consumption or income on out-of-pocket health care expenditure (%)\n",
       "SH.UHC.OOPC.25.ZS        Proportion of population spending more than 25% of household consumption or income on out-of-pocket health care expenditure (%)\n",
       "SI.POV.MDIM.17.XQ        Multidimensional poverty index, children (population ages 0-17) (scale 0-1)\n",
       "SI.SPR.PC40              Survey mean consumption or income per capita, bottom 40% of population (2017 PPP $ per day)\n",
       "SI.SPR.PC40.ZG           Annualized average growth rate in per capita real survey mean consumption or income, bottom 40% of population (%)\n",
       "SI.SPR.PCAP              Survey mean consumption or income per capita, total population (2017 PPP $ per day)\n",
       "SI.SPR.PCAP.ZG           Annualized average growth rate in per capita real survey mean consumption or income, total population (%)\n",
       "SL.EMP.1524.SP.FE.NE.ZS  Employment to population ratio, ages 15-24, female (%) (national estimate)\n",
       "SL.EMP.1524.SP.FE.ZS     Employment to population ratio, ages 15-24, female (%) (modeled ILO estimate)\n",
       "SL.EMP.1524.SP.MA.NE.ZS  Employment to population ratio, ages 15-24, male (%) (national estimate)\n",
       "SL.EMP.1524.SP.MA.ZS     Employment to population ratio, ages 15-24, male (%) (modeled ILO estimate)\n",
       "SL.EMP.1524.SP.NE.ZS     Employment to population ratio, ages 15-24, total (%) (national estimate)\n",
       "SL.EMP.1524.SP.ZS        Employment to population ratio, ages 15-24, total (%) (modeled ILO estimate)\n",
       "SL.EMP.TOTL.SP.FE.NE.ZS  Employment to population ratio, 15+, female (%) (national estimate)\n",
       "SL.EMP.TOTL.SP.FE.ZS     Employment to population ratio, 15+, female (%) (modeled ILO estimate)\n",
       "SL.EMP.TOTL.SP.MA.NE.ZS  Employment to population ratio, 15+, male (%) (national estimate)\n",
       "SL.EMP.TOTL.SP.MA.ZS     Employment to population ratio, 15+, male (%) (modeled ILO estimate)\n",
       "SL.EMP.TOTL.SP.NE.ZS     Employment to population ratio, 15+, total (%) (national estimate)\n",
       "SL.EMP.TOTL.SP.ZS        Employment to population ratio, 15+, total (%) (modeled ILO estimate)\n",
       "SL.TLF.ACTI.FE.ZS        Labor force participation rate, female (% of female population ages 15-64) (modeled ILO estimate)\n",
       "SL.TLF.ACTI.MA.ZS        Labor force participation rate, male (% of male population ages 15-64) (modeled ILO estimate)\n",
       "SL.TLF.ACTI.ZS           Labor force participation rate, total (% of total population ages 15-64) (modeled ILO estimate)\n",
       "SL.TLF.CACT.FE.NE.ZS     Labor force participation rate, female (% of female population ages 15+) (national estimate)\n",
       "SL.TLF.CACT.FE.ZS        Labor force participation rate, female (% of female population ages 15+) (modeled ILO estimate)\n",
       "SL.TLF.CACT.MA.NE.ZS     Labor force participation rate, male (% of male population ages 15+) (national estimate)\n",
       "SL.TLF.CACT.MA.ZS        Labor force participation rate, male (% of male population ages 15+) (modeled ILO estimate)\n",
       "SL.TLF.CACT.NE.ZS        Labor force participation rate, total (% of total population ages 15+) (national estimate)\n",
       "SL.TLF.CACT.ZS           Labor force participation rate, total (% of total population ages 15+) (modeled ILO estimate)\n",
       "SM.POP.REFG              Refugee population by country or territory of asylum\n",
       "SM.POP.REFG.OR           Refugee population by country or territory of origin\n",
       "SN.ITK.MSFI.ZS           Prevalence of moderate or severe food insecurity in the population (%)\n",
       "SN.ITK.SVFI.ZS           Prevalence of severe food insecurity in the population (%)\n",
       "SP.POP.0004.FE.5Y        Population ages 00-04, female (% of female population)\n",
       "SP.POP.0004.MA.5Y        Population ages 00-04, male (% of male population)\n",
       "SP.POP.0014.FE.IN        Population ages 0-14, female\n",
       "SP.POP.0014.FE.ZS        Population ages 0-14, female (% of female population)\n",
       "SP.POP.0014.MA.IN        Population ages 0-14, male\n",
       "SP.POP.0014.MA.ZS        Population ages 0-14, male (% of male population)\n",
       "SP.POP.0014.TO           Population ages 0-14, total\n",
       "SP.POP.0014.TO.ZS        Population ages 0-14 (% of total population)\n",
       "SP.POP.0509.FE.5Y        Population ages 05-09, female (% of female population)\n",
       "SP.POP.0509.MA.5Y        Population ages 05-09, male (% of male population)\n",
       "SP.POP.1014.FE.5Y        Population ages 10-14, female (% of female population)\n",
       "SP.POP.1014.MA.5Y        Population ages 10-14, male (% of male population)\n",
       "SP.POP.1519.FE.5Y        Population ages 15-19, female (% of female population)\n",
       "SP.POP.1519.MA.5Y        Population ages 15-19, male (% of male population)\n",
       "SP.POP.1564.FE.IN        Population ages 15-64, female\n",
       "SP.POP.1564.FE.ZS        Population ages 15-64, female (% of female population)\n",
       "SP.POP.1564.MA.IN        Population ages 15-64, male\n",
       "SP.POP.1564.MA.ZS        Population ages 15-64, male (% of male population)\n",
       "SP.POP.1564.TO           Population ages 15-64, total\n",
       "SP.POP.1564.TO.ZS        Population ages 15-64 (% of total population)\n",
       "SP.POP.2024.FE.5Y        Population ages 20-24, female (% of female population)\n",
       "SP.POP.2024.MA.5Y        Population ages 20-24, male (% of male population)\n",
       "SP.POP.2529.FE.5Y        Population ages 25-29, female (% of female population)\n",
       "SP.POP.2529.MA.5Y        Population ages 25-29, male (% of male population)\n",
       "SP.POP.3034.FE.5Y        Population ages 30-34, female (% of female population)\n",
       "SP.POP.3034.MA.5Y        Population ages 30-34, male (% of male population)\n",
       "SP.POP.3539.FE.5Y        Population ages 35-39, female (% of female population)\n",
       "SP.POP.3539.MA.5Y        Population ages 35-39, male (% of male population)\n",
       "SP.POP.4044.FE.5Y        Population ages 40-44, female (% of female population)\n",
       "SP.POP.4044.MA.5Y        Population ages 40-44, male (% of male population)\n",
       "SP.POP.4549.FE.5Y        Population ages 45-49, female (% of female population)\n",
       "SP.POP.4549.MA.5Y        Population ages 45-49, male (% of male population)\n",
       "SP.POP.5054.FE.5Y        Population ages 50-54, female (% of female population)\n",
       "SP.POP.5054.MA.5Y        Population ages 50-54, male (% of male population)\n",
       "SP.POP.5559.FE.5Y        Population ages 55-59, female (% of female population)\n",
       "SP.POP.5559.MA.5Y        Population ages 55-59, male (% of male population)\n",
       "SP.POP.6064.FE.5Y        Population ages 60-64, female (% of female population)\n",
       "SP.POP.6064.MA.5Y        Population ages 60-64, male (% of male population)\n",
       "SP.POP.6569.FE.5Y        Population ages 65-69, female (% of female population)\n",
       "SP.POP.6569.MA.5Y        Population ages 65-69, male (% of male population)\n",
       "SP.POP.65UP.FE.IN        Population ages 65 and above, female\n",
       "SP.POP.65UP.FE.ZS        Population ages 65 and above, female (% of female population)\n",
       "SP.POP.65UP.MA.IN        Population ages 65 and above, male\n",
       "SP.POP.65UP.MA.ZS        Population ages 65 and above, male (% of male population)\n",
       "SP.POP.65UP.TO           Population ages 65 and above, total\n",
       "SP.POP.65UP.TO.ZS        Population ages 65 and above (% of total population)\n",
       "SP.POP.7074.FE.5Y        Population ages 70-74, female (% of female population)\n",
       "SP.POP.7074.MA.5Y        Population ages 70-74, male (% of male population)\n",
       "SP.POP.7579.FE.5Y        Population ages 75-79, female (% of female population)\n",
       "SP.POP.7579.MA.5Y        Population ages 75-79, male (% of male population)\n",
       "SP.POP.80UP.FE.5Y        Population ages 80 and above, female (% of female population)\n",
       "SP.POP.80UP.MA.5Y        Population ages 80 and above, male (% of male population)\n",
       "SP.POP.GROW              Population growth (annual %)\n",
       "SP.POP.TOTL              Population, total\n",
       "SP.POP.TOTL.FE.IN        Population, female\n",
       "SP.POP.TOTL.FE.ZS        Population, female (% of total population)\n",
       "SP.POP.TOTL.MA.IN        Population, male\n",
       "SP.POP.TOTL.MA.ZS        Population, male (% of total population)\n",
       "SP.RUR.TOTL              Rural population\n",
       "SP.RUR.TOTL.ZG           Rural population growth (annual %)\n",
       "SP.RUR.TOTL.ZS           Rural population (% of total population)\n",
       "SP.URB.GROW              Urban population growth (annual %)\n",
       "SP.URB.TOTL              Urban population\n",
       "SP.URB.TOTL.IN.ZS        Urban population (% of total population)\n",
       "                         138 elements"
      ]
     },
     "execution_count": 4,
     "metadata": {},
     "output_type": "execute_result"
    }
   ],
   "source": [
    "wb.series.info(q='population')"
   ]
  },
  {
   "cell_type": "code",
   "execution_count": 5,
   "metadata": {},
   "outputs": [
    {
     "data": {
      "text/html": [
       "<div>\n",
       "<style scoped>\n",
       "    .dataframe tbody tr th:only-of-type {\n",
       "        vertical-align: middle;\n",
       "    }\n",
       "\n",
       "    .dataframe tbody tr th {\n",
       "        vertical-align: top;\n",
       "    }\n",
       "\n",
       "    .dataframe thead th {\n",
       "        text-align: right;\n",
       "    }\n",
       "</style>\n",
       "<table border=\"1\" class=\"dataframe\">\n",
       "  <thead>\n",
       "    <tr style=\"text-align: right;\">\n",
       "      <th></th>\n",
       "      <th>SP.POP.TOTL</th>\n",
       "    </tr>\n",
       "    <tr>\n",
       "      <th>economy</th>\n",
       "      <th></th>\n",
       "    </tr>\n",
       "  </thead>\n",
       "  <tbody>\n",
       "    <tr>\n",
       "      <th>ABW</th>\n",
       "      <td>104874.0</td>\n",
       "    </tr>\n",
       "    <tr>\n",
       "      <th>AFE</th>\n",
       "      <td>616377331.0</td>\n",
       "    </tr>\n",
       "    <tr>\n",
       "      <th>AFG</th>\n",
       "      <td>34636207.0</td>\n",
       "    </tr>\n",
       "    <tr>\n",
       "      <th>AFW</th>\n",
       "      <td>419778384.0</td>\n",
       "    </tr>\n",
       "    <tr>\n",
       "      <th>AGO</th>\n",
       "      <td>29154746.0</td>\n",
       "    </tr>\n",
       "    <tr>\n",
       "      <th>...</th>\n",
       "      <td>...</td>\n",
       "    </tr>\n",
       "    <tr>\n",
       "      <th>XKX</th>\n",
       "      <td>1777557.0</td>\n",
       "    </tr>\n",
       "    <tr>\n",
       "      <th>YEM</th>\n",
       "      <td>29274002.0</td>\n",
       "    </tr>\n",
       "    <tr>\n",
       "      <th>ZAF</th>\n",
       "      <td>56422274.0</td>\n",
       "    </tr>\n",
       "    <tr>\n",
       "      <th>ZMB</th>\n",
       "      <td>16767761.0</td>\n",
       "    </tr>\n",
       "    <tr>\n",
       "      <th>ZWE</th>\n",
       "      <td>14452704.0</td>\n",
       "    </tr>\n",
       "  </tbody>\n",
       "</table>\n",
       "<p>266 rows × 1 columns</p>\n",
       "</div>"
      ],
      "text/plain": [
       "         SP.POP.TOTL\n",
       "economy             \n",
       "ABW         104874.0\n",
       "AFE      616377331.0\n",
       "AFG       34636207.0\n",
       "AFW      419778384.0\n",
       "AGO       29154746.0\n",
       "...              ...\n",
       "XKX        1777557.0\n",
       "YEM       29274002.0\n",
       "ZAF       56422274.0\n",
       "ZMB       16767761.0\n",
       "ZWE       14452704.0\n",
       "\n",
       "[266 rows x 1 columns]"
      ]
     },
     "execution_count": 5,
     "metadata": {},
     "output_type": "execute_result"
    }
   ],
   "source": [
    "wb.data.DataFrame(series='SP.POP.TOTL', economy='all', time='2016')"
   ]
  },
  {
   "attachments": {},
   "cell_type": "markdown",
   "metadata": {},
   "source": [
    "## B.3 Describe Data"
   ]
  },
  {
   "cell_type": "code",
   "execution_count": 6,
   "metadata": {},
   "outputs": [
    {
     "data": {
      "text/plain": [
       "((25600, 13), (28289, 17))"
      ]
     },
     "execution_count": 6,
     "metadata": {},
     "output_type": "execute_result"
    }
   ],
   "source": [
    "starbucks_location_2016.shape, starbucks_location_2021.shape"
   ]
  },
  {
   "cell_type": "code",
   "execution_count": 7,
   "metadata": {},
   "outputs": [
    {
     "name": "stdout",
     "output_type": "stream",
     "text": [
      "<class 'pandas.core.frame.DataFrame'>\n",
      "RangeIndex: 25600 entries, 0 to 25599\n",
      "Data columns (total 13 columns):\n",
      " #   Column          Non-Null Count  Dtype  \n",
      "---  ------          --------------  -----  \n",
      " 0   Brand           25600 non-null  object \n",
      " 1   Store Number    25600 non-null  object \n",
      " 2   Store Name      25600 non-null  object \n",
      " 3   Ownership Type  25600 non-null  object \n",
      " 4   Street Address  25598 non-null  object \n",
      " 5   City            25585 non-null  object \n",
      " 6   State/Province  25600 non-null  object \n",
      " 7   Country         25600 non-null  object \n",
      " 8   Postcode        24078 non-null  object \n",
      " 9   Phone Number    18739 non-null  object \n",
      " 10  Timezone        25600 non-null  object \n",
      " 11  Longitude       25599 non-null  float64\n",
      " 12  Latitude        25599 non-null  float64\n",
      "dtypes: float64(2), object(11)\n",
      "memory usage: 2.5+ MB\n"
     ]
    }
   ],
   "source": [
    "starbucks_location_2016.info()"
   ]
  },
  {
   "cell_type": "code",
   "execution_count": 8,
   "metadata": {},
   "outputs": [
    {
     "name": "stdout",
     "output_type": "stream",
     "text": [
      "<class 'pandas.core.frame.DataFrame'>\n",
      "RangeIndex: 28289 entries, 0 to 28288\n",
      "Data columns (total 17 columns):\n",
      " #   Column                  Non-Null Count  Dtype  \n",
      "---  ------                  --------------  -----  \n",
      " 0   Unnamed: 0              28289 non-null  int64  \n",
      " 1   storeNumber             28289 non-null  object \n",
      " 2   countryCode             28289 non-null  object \n",
      " 3   ownershipTypeCode       28289 non-null  object \n",
      " 4   schedule                23204 non-null  object \n",
      " 5   slug                    28289 non-null  object \n",
      " 6   latitude                28289 non-null  float64\n",
      " 7   longitude               28289 non-null  float64\n",
      " 8   streetAddressLine1      28288 non-null  object \n",
      " 9   streetAddressLine2      7966 non-null   object \n",
      " 10  streetAddressLine3      5136 non-null   object \n",
      " 11  city                    28288 non-null  object \n",
      " 12  countrySubdivisionCode  28289 non-null  object \n",
      " 13  postalCode              27488 non-null  object \n",
      " 14  currentTimeOffset       28289 non-null  int64  \n",
      " 15  windowsTimeZoneId       28289 non-null  object \n",
      " 16  olsonTimeZoneId         28289 non-null  object \n",
      "dtypes: float64(2), int64(2), object(13)\n",
      "memory usage: 3.7+ MB\n"
     ]
    }
   ],
   "source": [
    "starbucks_location_2021.info()"
   ]
  },
  {
   "cell_type": "code",
   "execution_count": 12,
   "metadata": {},
   "outputs": [
    {
     "data": {
      "text/plain": [
       "Starbucks                25249\n",
       "Teavana                    348\n",
       "Evolution Fresh              2\n",
       "Coffee House Holdings        1\n",
       "Name: Brand, dtype: int64"
      ]
     },
     "execution_count": 12,
     "metadata": {},
     "output_type": "execute_result"
    }
   ],
   "source": [
    "# All data in starbucks_location_2021 are assumed to be brands of Starbucks\n",
    "starbucks_location_2016['Brand'].value_counts()"
   ]
  },
  {
   "cell_type": "markdown",
   "metadata": {},
   "source": [
    "### B.3.1 Check Duplicate Value"
   ]
  },
  {
   "cell_type": "code",
   "execution_count": 13,
   "metadata": {},
   "outputs": [
    {
     "data": {
      "text/plain": [
       "False    25600\n",
       "dtype: int64"
      ]
     },
     "execution_count": 13,
     "metadata": {},
     "output_type": "execute_result"
    }
   ],
   "source": [
    "starbucks_location_2016.duplicated().value_counts()"
   ]
  },
  {
   "cell_type": "code",
   "execution_count": 14,
   "metadata": {},
   "outputs": [
    {
     "data": {
      "text/plain": [
       "False    28289\n",
       "dtype: int64"
      ]
     },
     "execution_count": 14,
     "metadata": {},
     "output_type": "execute_result"
    }
   ],
   "source": [
    "starbucks_location_2021.duplicated().value_counts()"
   ]
  },
  {
   "cell_type": "code",
   "execution_count": 15,
   "metadata": {},
   "outputs": [
    {
     "data": {
      "text/plain": [
       "False    25599\n",
       "True         1\n",
       "dtype: int64"
      ]
     },
     "execution_count": 15,
     "metadata": {},
     "output_type": "execute_result"
    }
   ],
   "source": [
    "starbucks_location_2016.duplicated(subset=['Store Number']).value_counts()"
   ]
  },
  {
   "cell_type": "code",
   "execution_count": 16,
   "metadata": {},
   "outputs": [
    {
     "data": {
      "text/plain": [
       "False    28289\n",
       "dtype: int64"
      ]
     },
     "execution_count": 16,
     "metadata": {},
     "output_type": "execute_result"
    }
   ],
   "source": [
    "starbucks_location_2021.duplicated(subset=['storeNumber']).value_counts()"
   ]
  },
  {
   "cell_type": "markdown",
   "metadata": {},
   "source": [
    "### B.3.2 Check Empty Value"
   ]
  },
  {
   "cell_type": "code",
   "execution_count": 18,
   "metadata": {},
   "outputs": [
    {
     "data": {
      "text/plain": [
       "Phone Number      26.80\n",
       "Postcode           5.95\n",
       "City               0.06\n",
       "Street Address     0.01\n",
       "Longitude          0.00\n",
       "Latitude           0.00\n",
       "Brand              0.00\n",
       "Store Number       0.00\n",
       "Store Name         0.00\n",
       "Ownership Type     0.00\n",
       "State/Province     0.00\n",
       "Country            0.00\n",
       "Timezone           0.00\n",
       "dtype: float64"
      ]
     },
     "execution_count": 18,
     "metadata": {},
     "output_type": "execute_result"
    }
   ],
   "source": [
    "# Calculate the percentage of null values in each column, and then sort the columns by the percentage of null values\n",
    "starbucks_location_2016.isnull().mean().mul(100).sort_values(ascending=False).round(2)"
   ]
  },
  {
   "cell_type": "code",
   "execution_count": 19,
   "metadata": {},
   "outputs": [
    {
     "data": {
      "text/plain": [
       "streetAddressLine3        81.84\n",
       "streetAddressLine2        71.84\n",
       "schedule                  17.98\n",
       "postalCode                 2.83\n",
       "streetAddressLine1         0.00\n",
       "city                       0.00\n",
       "windowsTimeZoneId          0.00\n",
       "currentTimeOffset          0.00\n",
       "countrySubdivisionCode     0.00\n",
       "Unnamed: 0                 0.00\n",
       "storeNumber                0.00\n",
       "longitude                  0.00\n",
       "latitude                   0.00\n",
       "slug                       0.00\n",
       "ownershipTypeCode          0.00\n",
       "countryCode                0.00\n",
       "olsonTimeZoneId            0.00\n",
       "dtype: float64"
      ]
     },
     "execution_count": 19,
     "metadata": {},
     "output_type": "execute_result"
    }
   ],
   "source": [
    "starbucks_location_2021.isnull().mean().mul(100).sort_values(ascending=False).round(2)"
   ]
  },
  {
   "attachments": {},
   "cell_type": "markdown",
   "metadata": {},
   "source": [
    "# C. Data Preparation"
   ]
  },
  {
   "attachments": {},
   "cell_type": "markdown",
   "metadata": {},
   "source": [
    "## C.1 Data Selection"
   ]
  },
  {
   "attachments": {},
   "cell_type": "markdown",
   "metadata": {},
   "source": [
    "Since both Stabucks location datasets are not very large, the entire dataset will be used. <br>\n",
    "In addition, factors that may affect the number of Starbucks in a country were taken from the world bank database. <br>\n",
    "These are \n",
    "* GDP per capital\n",
    "* Population\n",
    "* Urban population\n",
    "* Easy of doing business parameter"
   ]
  },
  {
   "cell_type": "code",
   "execution_count": null,
   "metadata": {},
   "outputs": [],
   "source": [
    "population = wb.data.DataFrame(series='SP.POP.TOTL', economy='all', time='2016')\n",
    "population.reset_index(inplace=True)\n",
    "population.rename(columns={'economy': 'Country', 'SP.POP.TOTL': 'POP'}, inplace=True)\n",
    "population"
   ]
  },
  {
   "cell_type": "code",
   "execution_count": null,
   "metadata": {},
   "outputs": [],
   "source": [
    "ease_of_business = wb.data.DataFrame(series='IC.BUS.DFRN.XQ', economy='all', time=2016).round(2)\n",
    "ease_of_business.reset_index(inplace=True)\n",
    "ease_of_business.rename(columns={'economy': 'Country', 'IC.BUS.DFRN.XQ': 'EODB'}, inplace=True)\n",
    "ease_of_business"
   ]
  },
  {
   "cell_type": "code",
   "execution_count": null,
   "metadata": {},
   "outputs": [],
   "source": [
    "gdp_pcap = wb.data.DataFrame(series='NY.GDP.PCAP.CD', economy='all', time='2016').round(2)\n",
    "gdp_pcap.reset_index(inplace=True)\n",
    "gdp_pcap.rename(columns={'economy': 'Country', 'NY.GDP.PCAP.CD': 'GDP PCAP'}, inplace=True)\n",
    "gdp_pcap"
   ]
  },
  {
   "cell_type": "code",
   "execution_count": null,
   "metadata": {},
   "outputs": [],
   "source": [
    "urban_population = wb.data.DataFrame(series='SP.URB.TOTL', economy='all', time=2016)\n",
    "urban_population.reset_index(inplace=True)\n",
    "urban_population.rename(columns={'economy':'Country', 'SP.URB.TOTL': 'URB POP'}, inplace=True)\n",
    "urban_population"
   ]
  },
  {
   "cell_type": "code",
   "execution_count": null,
   "metadata": {},
   "outputs": [],
   "source": [
    "number_of_starbucks = starbucks_location_2016.groupby('Country').count()['Store Number'].sort_values(ascending=False).to_frame()\n",
    "number_of_starbucks.reset_index(inplace=True)\n",
    "number_of_starbucks"
   ]
  },
  {
   "attachments": {},
   "cell_type": "markdown",
   "metadata": {},
   "source": [
    "## C.2 Data Reduction"
   ]
  },
  {
   "attachments": {},
   "cell_type": "markdown",
   "metadata": {},
   "source": [
    "## C.3 Data Transformation"
   ]
  },
  {
   "attachments": {},
   "cell_type": "markdown",
   "metadata": {},
   "source": [
    "## C.4 Data Cleaning"
   ]
  },
  {
   "attachments": {},
   "cell_type": "markdown",
   "metadata": {},
   "source": [
    "## C.5 Data Analysis"
   ]
  },
  {
   "attachments": {},
   "cell_type": "markdown",
   "metadata": {},
   "source": [
    "## C.6 Data Integration"
   ]
  },
  {
   "attachments": {},
   "cell_type": "markdown",
   "metadata": {},
   "source": [
    "# D. Modelling"
   ]
  },
  {
   "attachments": {},
   "cell_type": "markdown",
   "metadata": {},
   "source": [
    "# E. Evaluation"
   ]
  },
  {
   "cell_type": "markdown",
   "metadata": {},
   "source": []
  }
 ],
 "metadata": {
  "kernelspec": {
   "display_name": ".venv",
   "language": "python",
   "name": "python3"
  },
  "language_info": {
   "codemirror_mode": {
    "name": "ipython",
    "version": 3
   },
   "file_extension": ".py",
   "mimetype": "text/x-python",
   "name": "python",
   "nbconvert_exporter": "python",
   "pygments_lexer": "ipython3",
   "version": "3.11.1"
  },
  "orig_nbformat": 4,
  "vscode": {
   "interpreter": {
    "hash": "7e088eb45a416d5fa904bb122c0a50c6ba5dc7fbdd38d7d85936a943b944da11"
   }
  }
 },
 "nbformat": 4,
 "nbformat_minor": 2
}
